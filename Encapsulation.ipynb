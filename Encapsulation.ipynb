{
 "cells": [
  {
   "cell_type": "code",
   "execution_count": 1,
   "id": "4172ea7b-f971-4d66-885c-4ba631c246ff",
   "metadata": {},
   "outputs": [],
   "source": [
    "class Car:\n",
    "    pass"
   ]
  },
  {
   "cell_type": "code",
   "execution_count": 2,
   "id": "bed1a82f-21f4-44e0-b7b6-c4e4d5afa6bb",
   "metadata": {},
   "outputs": [],
   "source": [
    "audi = Car()"
   ]
  },
  {
   "cell_type": "code",
   "execution_count": 3,
   "id": "f234cd38-843f-4d50-9026-3fa266e587d5",
   "metadata": {},
   "outputs": [],
   "source": [
    "audi.milage=10\n",
    "audi.year=2006\n",
    "audi.maker=345\n",
    "audi.model=\"abc\""
   ]
  },
  {
   "cell_type": "code",
   "execution_count": 4,
   "id": "1a1b58b9-4e3c-4d24-aa09-25e75973194d",
   "metadata": {},
   "outputs": [
    {
     "data": {
      "text/plain": [
       "345"
      ]
     },
     "execution_count": 4,
     "metadata": {},
     "output_type": "execute_result"
    }
   ],
   "source": [
    "audi.maker"
   ]
  },
  {
   "cell_type": "code",
   "execution_count": 5,
   "id": "cf896248-6296-4693-8522-2ebb64e8a968",
   "metadata": {},
   "outputs": [
    {
     "data": {
      "text/plain": [
       "10"
      ]
     },
     "execution_count": 5,
     "metadata": {},
     "output_type": "execute_result"
    }
   ],
   "source": [
    "audi.milage"
   ]
  },
  {
   "cell_type": "code",
   "execution_count": 6,
   "id": "5713be54-3868-4df4-9e7c-77a42aff0429",
   "metadata": {},
   "outputs": [
    {
     "data": {
      "text/plain": [
       "'abc'"
      ]
     },
     "execution_count": 6,
     "metadata": {},
     "output_type": "execute_result"
    }
   ],
   "source": [
    "audi.model"
   ]
  },
  {
   "cell_type": "code",
   "execution_count": 7,
   "id": "76ab58b7-680e-4a7d-987b-7567c194fda8",
   "metadata": {},
   "outputs": [],
   "source": [
    "nano = Car()"
   ]
  },
  {
   "cell_type": "code",
   "execution_count": 8,
   "id": "dc08a806-5548-4e3e-831e-9f52a278fd4f",
   "metadata": {},
   "outputs": [],
   "source": [
    "nano.milage=67\n",
    "nano.year=2007\n",
    "nano.make=67\n",
    "nano.model=\"xyz\""
   ]
  },
  {
   "cell_type": "code",
   "execution_count": 9,
   "id": "51435681-6010-4366-b816-1fe35bacc417",
   "metadata": {},
   "outputs": [],
   "source": [
    "class Car:\n",
    "    def __init__(self,milage,year,make,model):\n",
    "        self.milage=milage\n",
    "        self.year=year\n",
    "        self.make=make\n",
    "        self.model=model"
   ]
  },
  {
   "cell_type": "code",
   "execution_count": 10,
   "id": "f869e73e-165d-4aab-bccc-fb640e6182bf",
   "metadata": {},
   "outputs": [],
   "source": [
    "nano1=Car(10,2009,45,\"dfgre\")\n",
    "nano2=Car(10,2009,45,\"dfgre\")\n",
    "nano3=Car(10,2009,45,\"dfgre\")\n",
    "nano4=Car(10,2009,45,\"dfgre\")\n",
    "nano5=Car(10,2009,45,\"dfgre\")\n",
    "nano6=Car(10,2009,45,\"dfgre\")"
   ]
  },
  {
   "cell_type": "code",
   "execution_count": 11,
   "id": "2b65c2ad-3b3e-41e7-a73c-5bb071f761ae",
   "metadata": {},
   "outputs": [],
   "source": [
    "class Car:\n",
    "    def __init__(a,m,y,ma,mo):\n",
    "        a.milage=m\n",
    "        a.year=y\n",
    "        a.make=ma\n",
    "        a.model=mo\n",
    "        \n",
    "    def age(a,current_year):\n",
    "        return current_year-a.year\n",
    "    \n",
    "    def milage1(self):\n",
    "        print(\"print a milage of the car\", self.milage)\n",
    "        \n",
    "    def __str__(c):                       # this method will return some string \n",
    "        return \"this is from class i hace created\""
   ]
  },
  {
   "cell_type": "code",
   "execution_count": 12,
   "id": "73aa7b81-bc80-4cdf-ac97-8a286b6664cb",
   "metadata": {},
   "outputs": [],
   "source": [
    "nano23 = Car(10,2009,45,\"fsdf\")"
   ]
  },
  {
   "cell_type": "code",
   "execution_count": 13,
   "id": "8900e679-735f-48b7-b28e-594d3bc8b8dd",
   "metadata": {},
   "outputs": [
    {
     "data": {
      "text/plain": [
       "14"
      ]
     },
     "execution_count": 13,
     "metadata": {},
     "output_type": "execute_result"
    }
   ],
   "source": [
    "nano23.age(2023)"
   ]
  },
  {
   "cell_type": "code",
   "execution_count": 14,
   "id": "d5d03028-2189-405d-a0a1-01b34d932c3d",
   "metadata": {},
   "outputs": [
    {
     "name": "stdout",
     "output_type": "stream",
     "text": [
      "print a milage of the car 10\n"
     ]
    }
   ],
   "source": [
    "nano23.milage1()"
   ]
  },
  {
   "cell_type": "code",
   "execution_count": 15,
   "id": "40015afe-e1c6-4c70-b63b-3c27ef380999",
   "metadata": {},
   "outputs": [
    {
     "name": "stdout",
     "output_type": "stream",
     "text": [
      "this is from class i hace created\n"
     ]
    }
   ],
   "source": [
    "print(nano23)"
   ]
  },
  {
   "cell_type": "code",
   "execution_count": 16,
   "id": "1886df52-5cd5-43b6-92bc-e7153458152c",
   "metadata": {},
   "outputs": [],
   "source": [
    "class Person:\n",
    "    \n",
    "    def __init__(self,first_name,last_name,age):\n",
    "        self.first_name=first_name\n",
    "        self.last_name=last_name\n",
    "        self.age=age\n",
    "    \n",
    "    def __str__(self):\n",
    "        return \"this is the person class\""
   ]
  },
  {
   "cell_type": "code",
   "execution_count": 17,
   "id": "32270371-f0f1-4f7c-9369-99da380a7541",
   "metadata": {},
   "outputs": [],
   "source": [
    "person=Person(\"mohit\",\"a\",29)"
   ]
  },
  {
   "cell_type": "code",
   "execution_count": 18,
   "id": "e738bc9e-3421-4115-81c0-9d8576bde87f",
   "metadata": {},
   "outputs": [
    {
     "name": "stdout",
     "output_type": "stream",
     "text": [
      "this is the person class\n"
     ]
    }
   ],
   "source": [
    "print(person)"
   ]
  },
  {
   "cell_type": "code",
   "execution_count": 19,
   "id": "73d11684-842d-44c4-9348-10a0a984de7c",
   "metadata": {},
   "outputs": [
    {
     "data": {
      "text/plain": [
       "29"
      ]
     },
     "execution_count": 19,
     "metadata": {},
     "output_type": "execute_result"
    }
   ],
   "source": [
    "person.age"
   ]
  },
  {
   "cell_type": "code",
   "execution_count": 20,
   "id": "51453d11-ccbe-4c84-abc7-c50c7fb3b000",
   "metadata": {},
   "outputs": [
    {
     "data": {
      "text/plain": [
       "'mohit'"
      ]
     },
     "execution_count": 20,
     "metadata": {},
     "output_type": "execute_result"
    }
   ],
   "source": [
    "person.first_name"
   ]
  },
  {
   "cell_type": "code",
   "execution_count": 21,
   "id": "19470d4b-31e0-4cd3-843f-f7b375934adb",
   "metadata": {},
   "outputs": [],
   "source": [
    "class Student:\n",
    "    \n",
    "    def __init__(self,name,rollno,joining_date,current_topic):\n",
    "        self.name=name\n",
    "        self.rollno=rollno\n",
    "        self.joining_date=joining_date\n",
    "        self.current_topic=current_topic\n",
    "        \n",
    "    def cur_topic(self):\n",
    "        print(\"current topic discussed in class is \",self.current_topic)\n",
    "        \n",
    "    def str_rollno(self):\n",
    "        \n",
    "        try:\n",
    "            if type(self.rollno)== str:\n",
    "                print(\"do nothing\")\n",
    "                \n",
    "            else:\n",
    "                return str(self.rollno)\n",
    "        except Exception as e:\n",
    "            print(\"this is my error message\",e)\n",
    "            \n",
    "    def duration(self,current_date):\n",
    "        print(\"duration of student in my class is\",current_date-self.joining_date)\n",
    "        \n",
    "    def __str__(self):\n",
    "        \n",
    "        return \"this is student class\""
   ]
  },
  {
   "cell_type": "code",
   "execution_count": 22,
   "id": "46a47564-d89b-4c99-ab9e-2bb558547db1",
   "metadata": {},
   "outputs": [],
   "source": [
    "s1=Student(\"mohit\",45,2007,\"data science\")"
   ]
  },
  {
   "cell_type": "code",
   "execution_count": 23,
   "id": "3dac96b5-699c-48ae-a91a-e53893845164",
   "metadata": {},
   "outputs": [
    {
     "name": "stdout",
     "output_type": "stream",
     "text": [
      "this is student class\n"
     ]
    }
   ],
   "source": [
    "print(s1)"
   ]
  },
  {
   "cell_type": "code",
   "execution_count": 24,
   "id": "690f8c1a-7568-486e-8737-8ce6c86988b3",
   "metadata": {},
   "outputs": [
    {
     "name": "stdout",
     "output_type": "stream",
     "text": [
      "duration of student in my class is 1\n"
     ]
    }
   ],
   "source": [
    "s1.duration(2008)"
   ]
  },
  {
   "cell_type": "code",
   "execution_count": 25,
   "id": "19ef1713-0b61-4c0f-bdc3-cc7357ec11a5",
   "metadata": {},
   "outputs": [
    {
     "data": {
      "text/plain": [
       "'45'"
      ]
     },
     "execution_count": 25,
     "metadata": {},
     "output_type": "execute_result"
    }
   ],
   "source": [
    "s1.str_rollno()"
   ]
  },
  {
   "cell_type": "code",
   "execution_count": 26,
   "id": "b14043ec-fc51-46f7-813b-41d1dc97d5a0",
   "metadata": {},
   "outputs": [
    {
     "data": {
      "text/plain": [
       "'data science'"
      ]
     },
     "execution_count": 26,
     "metadata": {},
     "output_type": "execute_result"
    }
   ],
   "source": [
    "s1.current_topic"
   ]
  },
  {
   "cell_type": "code",
   "execution_count": 27,
   "id": "fcab3dab-34c6-448e-989b-f55bfdc47dc0",
   "metadata": {},
   "outputs": [],
   "source": [
    "# parameterized constructor\n",
    "\n",
    "class Calculator:\n",
    "    \n",
    "    def __init__(self,a,b):\n",
    "        self.a=a\n",
    "        self.b=b\n",
    "        \n",
    "    def add(self):\n",
    "        return self.a+self.b\n",
    "    \n",
    "    def sub(self):\n",
    "        return self.a-self.b\n",
    "    \n",
    "    def mul(self):\n",
    "        return self.a*self.b\n",
    "    \n",
    "    def div(self):\n",
    "        return self.a/self.b"
   ]
  },
  {
   "cell_type": "code",
   "execution_count": 28,
   "id": "28568b6d-c6f9-46d7-9d5e-e66d8b8edb0a",
   "metadata": {},
   "outputs": [],
   "source": [
    "c1=Calculator(3,4)"
   ]
  },
  {
   "cell_type": "code",
   "execution_count": 29,
   "id": "94132782-0685-4c66-9469-40f637d3c4b3",
   "metadata": {},
   "outputs": [
    {
     "data": {
      "text/plain": [
       "7"
      ]
     },
     "execution_count": 29,
     "metadata": {},
     "output_type": "execute_result"
    }
   ],
   "source": [
    "c1.add()"
   ]
  },
  {
   "cell_type": "code",
   "execution_count": 32,
   "id": "3dc3ee5d-6a0c-4f69-a206-49c5df232518",
   "metadata": {},
   "outputs": [],
   "source": [
    "# default Constructor\n",
    "class Student:\n",
    "    \n",
    "    def who(self):\n",
    "        print(\"i am a student\")"
   ]
  },
  {
   "cell_type": "code",
   "execution_count": 33,
   "id": "c7424b1a-136f-452e-aefe-a8489475e559",
   "metadata": {},
   "outputs": [],
   "source": [
    "s1=Student()"
   ]
  },
  {
   "cell_type": "code",
   "execution_count": 34,
   "id": "8c9233e1-7569-4697-88d7-fffb1dceb09d",
   "metadata": {},
   "outputs": [
    {
     "name": "stdout",
     "output_type": "stream",
     "text": [
      "i am a student\n"
     ]
    }
   ],
   "source": [
    "s1.who()"
   ]
  },
  {
   "cell_type": "code",
   "execution_count": 35,
   "id": "4c5da39d-9fbf-4a1d-aad5-658e21616cec",
   "metadata": {},
   "outputs": [],
   "source": [
    "# non parameterized constructor\n",
    "\n",
    "class Company:\n",
    "    \n",
    "    def __init__(self):                  # create the constructor without passing any argument\n",
    "        self.name=\"ineuron\"\n",
    "        self.address=\"Bangalore\"\n",
    "        \n",
    "    def show(self):\n",
    "        print(\"name\",self.name,\"address\",self.address)"
   ]
  },
  {
   "cell_type": "code",
   "execution_count": 36,
   "id": "3547b243-97e3-4e3b-8fcb-a1d8506b34a0",
   "metadata": {},
   "outputs": [],
   "source": [
    "cmp=Company()"
   ]
  },
  {
   "cell_type": "code",
   "execution_count": 37,
   "id": "c9613a2d-e5c7-4f50-b73f-3a5772b60d10",
   "metadata": {},
   "outputs": [
    {
     "name": "stdout",
     "output_type": "stream",
     "text": [
      "name ineuron address Bangalore\n"
     ]
    }
   ],
   "source": [
    "cmp.show()  "
   ]
  },
  {
   "cell_type": "code",
   "execution_count": 38,
   "id": "de1af422-5e3c-4e5f-8e76-c22d3e352774",
   "metadata": {},
   "outputs": [],
   "source": [
    "class Pub_mod:\n",
    "    \n",
    "    def __init__(self,name,age):\n",
    "        \n",
    "        self.name=name\n",
    "        self.age=age\n",
    "        \n",
    "    def age1(self):\n",
    "        print(\"age1\",self.age)"
   ]
  },
  {
   "cell_type": "code",
   "execution_count": 39,
   "id": "3528ae42-34f4-496f-8c96-d1a5af6dcb97",
   "metadata": {},
   "outputs": [],
   "source": [
    "c1=Pub_mod(\"mohit\",27)"
   ]
  },
  {
   "cell_type": "code",
   "execution_count": 40,
   "id": "21c932a6-b518-4d2f-8c2e-4b681528d272",
   "metadata": {},
   "outputs": [
    {
     "name": "stdout",
     "output_type": "stream",
     "text": [
      "age1 27\n"
     ]
    }
   ],
   "source": [
    "c1.age1()"
   ]
  },
  {
   "cell_type": "code",
   "execution_count": 41,
   "id": "be5944c9-ef20-4f75-b843-a4b204d0f31c",
   "metadata": {},
   "outputs": [],
   "source": [
    "# in python we can hide certain instance variables. so how i can excess instance variable among the different method.\n",
    "# i can just control with the help of modifier , we have something call (private modifiers) , we have something call \n",
    "# (public modifier) , and we have (protected modifier)."
   ]
  },
  {
   "cell_type": "code",
   "execution_count": 42,
   "id": "44b711e6-1345-4fc2-b858-311abd3ad421",
   "metadata": {},
   "outputs": [],
   "source": [
    "# single under score (_) means protected member. we can excess the variable within the class and sub class\n",
    "# double under score (__) means private member , excess variable with in a class.\n",
    "\n",
    "# self.name=name (public modifier)\n",
    "# self._name= name (protective modifier)\n",
    "# self.__name=name (private modifier)"
   ]
  },
  {
   "cell_type": "code",
   "execution_count": 43,
   "id": "0aa02149-557d-403b-8108-d73bf2d5b2b9",
   "metadata": {},
   "outputs": [],
   "source": [
    "class Pub_mod:\n",
    "    \n",
    "    def __init__(self,name,age):\n",
    "        \n",
    "        self.__name=name\n",
    "        self.age=age\n",
    "        \n",
    "    def age1(self):\n",
    "        print(\"age1\",self.age)"
   ]
  },
  {
   "cell_type": "code",
   "execution_count": 44,
   "id": "6f38d9ff-a5f5-4fab-b78e-a22f6539601b",
   "metadata": {},
   "outputs": [],
   "source": [
    "c1=Pub_mod(\"mohit\",27)"
   ]
  },
  {
   "cell_type": "code",
   "execution_count": 45,
   "id": "d84d214c-967f-439a-9dd2-4066909f851d",
   "metadata": {},
   "outputs": [
    {
     "name": "stdout",
     "output_type": "stream",
     "text": [
      "age1 27\n"
     ]
    }
   ],
   "source": [
    "c1.age1()"
   ]
  },
  {
   "cell_type": "code",
   "execution_count": 46,
   "id": "f5ca0fe0-0654-4599-b545-a59054e965c9",
   "metadata": {},
   "outputs": [],
   "source": [
    "class Pub_mod:\n",
    "    \n",
    "    def __init__(self,name,age):\n",
    "        \n",
    "        self._name=name\n",
    "        self.age=age\n",
    "        \n",
    "    def age1(self):\n",
    "        print(\"age1\",self.age)"
   ]
  },
  {
   "cell_type": "code",
   "execution_count": 47,
   "id": "27d75446-0a18-49e7-8f93-435f68edb2fb",
   "metadata": {},
   "outputs": [],
   "source": [
    "c1=Pub_mod(\"mohit\",27)"
   ]
  },
  {
   "cell_type": "code",
   "execution_count": 48,
   "id": "25b1fcf7-f67a-4e03-bf25-3b698c3eb3c3",
   "metadata": {},
   "outputs": [
    {
     "name": "stdout",
     "output_type": "stream",
     "text": [
      "age1 27\n"
     ]
    }
   ],
   "source": [
    "c1.age1()"
   ]
  },
  {
   "cell_type": "code",
   "execution_count": 49,
   "id": "8215ac22-87bc-4904-9541-2931e818ba90",
   "metadata": {},
   "outputs": [],
   "source": [
    "# Encapsulation  = In oops concept, we have a concept called encapsulation. encapsulation means we are grouping this\n",
    "#                  methods and variable into the single class. or basically this is the bundle of methods  and attributes.\n",
    "\n",
    "\n",
    "# advantage:\n",
    "# 1) data hiding = we achive the data hiding with the help of modifiers\n",
    "# 2) work independently = it means existing class does not depend on any other class."
   ]
  },
  {
   "cell_type": "code",
   "execution_count": 50,
   "id": "6bd45731-cd79-4054-84d2-44c8356bb7ef",
   "metadata": {},
   "outputs": [],
   "source": [
    "class Rectangle:\n",
    "    \n",
    "    #__length = 0\n",
    "    #__breadth = 0\n",
    "    \n",
    "    def __init__(self):\n",
    "        self.length=5\n",
    "        self.__breadth=3\n",
    "        print(self.length)\n",
    "        print(self.__breadth)"
   ]
  },
  {
   "cell_type": "code",
   "execution_count": 51,
   "id": "8b25700e-6919-4e05-a892-478837857d89",
   "metadata": {},
   "outputs": [
    {
     "name": "stdout",
     "output_type": "stream",
     "text": [
      "5\n",
      "3\n"
     ]
    }
   ],
   "source": [
    "r1=Rectangle()"
   ]
  },
  {
   "cell_type": "code",
   "execution_count": 52,
   "id": "e9bd4a95-9972-4cf3-bb1f-eae9602a1ce4",
   "metadata": {},
   "outputs": [
    {
     "data": {
      "text/plain": [
       "5"
      ]
     },
     "execution_count": 52,
     "metadata": {},
     "output_type": "execute_result"
    }
   ],
   "source": [
    "r1.length"
   ]
  },
  {
   "cell_type": "code",
   "execution_count": 53,
   "id": "173f946e-9e7b-4640-8ae1-0c0c0fc704e4",
   "metadata": {},
   "outputs": [
    {
     "name": "stdout",
     "output_type": "stream",
     "text": [
      "5\n",
      "3\n",
      "5\n"
     ]
    },
    {
     "ename": "AttributeError",
     "evalue": "'Rectangle' object has no attribute '__breadth'",
     "output_type": "error",
     "traceback": [
      "\u001b[0;31m---------------------------------------------------------------------------\u001b[0m",
      "\u001b[0;31mAttributeError\u001b[0m                            Traceback (most recent call last)",
      "Cell \u001b[0;32mIn [53], line 18\u001b[0m\n\u001b[1;32m     16\u001b[0m rect\u001b[38;5;241m=\u001b[39mRectangle()\n\u001b[1;32m     17\u001b[0m \u001b[38;5;28mprint\u001b[39m(rect\u001b[38;5;241m.\u001b[39mlength)\n\u001b[0;32m---> 18\u001b[0m \u001b[38;5;28mprint\u001b[39m(\u001b[43mrect\u001b[49m\u001b[38;5;241;43m.\u001b[39;49m\u001b[43m__breadth\u001b[49m)\n",
      "\u001b[0;31mAttributeError\u001b[0m: 'Rectangle' object has no attribute '__breadth'"
     ]
    }
   ],
   "source": [
    "class Rectangle:\n",
    "    \n",
    "    #__length = 0\n",
    "    #__breadth = 0\n",
    "    \n",
    "    def __init__(self):\n",
    "        self.length=5     # public \n",
    "        self.__breadth=3  # private\n",
    "        print(self.length)\n",
    "        print(self.__breadth)\n",
    "        \n",
    "    def show(self):\n",
    "        print(\"this is printing private variable\",self.__breadth)\n",
    "        \n",
    "        \n",
    "rect=Rectangle()\n",
    "print(rect.length)\n",
    "print(rect.__breadth)"
   ]
  },
  {
   "cell_type": "code",
   "execution_count": 54,
   "id": "6446aad6-39ab-43f9-a72e-72ffa7d2ad77",
   "metadata": {},
   "outputs": [
    {
     "name": "stdout",
     "output_type": "stream",
     "text": [
      "this is printing private variable 3\n"
     ]
    }
   ],
   "source": [
    "rect.show()"
   ]
  },
  {
   "cell_type": "code",
   "execution_count": 55,
   "id": "d3cdf580-002a-42e9-a296-ccb2c9f70dd7",
   "metadata": {},
   "outputs": [
    {
     "data": {
      "text/plain": [
       "3"
      ]
     },
     "execution_count": 55,
     "metadata": {},
     "output_type": "execute_result"
    }
   ],
   "source": [
    "# syntax = objectname_classname__variablename(private/protected)\n",
    "rect._Rectangle__breadth   "
   ]
  },
  {
   "cell_type": "code",
   "execution_count": 56,
   "id": "9a190374-d7d0-4d52-a544-8bb1270e6060",
   "metadata": {},
   "outputs": [],
   "source": [
    "class Test:\n",
    "    \n",
    "    def __init__(self):\n",
    "        self.a=6\n",
    "        self._b=5\n",
    "        self.__c=8\n",
    "        \n",
    "        print(\"public:\",self.a,\"protected:\",self._b,\"private:\",self.__c)"
   ]
  },
  {
   "cell_type": "code",
   "execution_count": 57,
   "id": "deb9f0c7-3429-4be9-8fa0-4059525aaf56",
   "metadata": {},
   "outputs": [
    {
     "name": "stdout",
     "output_type": "stream",
     "text": [
      "public: 6 protected: 5 private: 8\n"
     ]
    }
   ],
   "source": [
    "t1=Test()"
   ]
  },
  {
   "cell_type": "code",
   "execution_count": 58,
   "id": "5dee19dd-0258-434b-93e2-76bec03c17eb",
   "metadata": {},
   "outputs": [
    {
     "data": {
      "text/plain": [
       "6"
      ]
     },
     "execution_count": 58,
     "metadata": {},
     "output_type": "execute_result"
    }
   ],
   "source": [
    "t1.a"
   ]
  },
  {
   "cell_type": "code",
   "execution_count": 59,
   "id": "1da64ac3-78a8-4112-acc5-15ce0500b44a",
   "metadata": {},
   "outputs": [
    {
     "ename": "AttributeError",
     "evalue": "'Test' object has no attribute 'b'",
     "output_type": "error",
     "traceback": [
      "\u001b[0;31m---------------------------------------------------------------------------\u001b[0m",
      "\u001b[0;31mAttributeError\u001b[0m                            Traceback (most recent call last)",
      "Cell \u001b[0;32mIn [59], line 1\u001b[0m\n\u001b[0;32m----> 1\u001b[0m \u001b[43mt1\u001b[49m\u001b[38;5;241;43m.\u001b[39;49m\u001b[43mb\u001b[49m\n",
      "\u001b[0;31mAttributeError\u001b[0m: 'Test' object has no attribute 'b'"
     ]
    }
   ],
   "source": [
    "t1.b"
   ]
  },
  {
   "cell_type": "code",
   "execution_count": 60,
   "id": "75a64934-93e6-4c43-90b5-44a3d0b73a6c",
   "metadata": {},
   "outputs": [
    {
     "ename": "AttributeError",
     "evalue": "'Test' object has no attribute 'c'",
     "output_type": "error",
     "traceback": [
      "\u001b[0;31m---------------------------------------------------------------------------\u001b[0m",
      "\u001b[0;31mAttributeError\u001b[0m                            Traceback (most recent call last)",
      "Cell \u001b[0;32mIn [60], line 1\u001b[0m\n\u001b[0;32m----> 1\u001b[0m \u001b[43mt1\u001b[49m\u001b[38;5;241;43m.\u001b[39;49m\u001b[43mc\u001b[49m\n",
      "\u001b[0;31mAttributeError\u001b[0m: 'Test' object has no attribute 'c'"
     ]
    }
   ],
   "source": [
    "t1.c"
   ]
  },
  {
   "cell_type": "code",
   "execution_count": 61,
   "id": "ba323655-7ae4-4b83-a363-6d60fb25e6a8",
   "metadata": {},
   "outputs": [],
   "source": [
    "class Test:\n",
    "    \n",
    "    def __init__(self):\n",
    "        self.a=6\n",
    "        self._b=5\n",
    "        self.__c=8\n",
    "        \n",
    "        print(\"public:\",self.a,\"protected:\",self._b,\"private:\",self.__c)\n",
    "        \n",
    "    def show(self):          # this is the method to excess the protected and private method\n",
    "        print(\"protected:\",self._b,\"private:\",self.__c)"
   ]
  },
  {
   "cell_type": "code",
   "execution_count": 62,
   "id": "8f216368-fe62-4886-bdfd-675d6406dd95",
   "metadata": {},
   "outputs": [
    {
     "name": "stdout",
     "output_type": "stream",
     "text": [
      "public: 6 protected: 5 private: 8\n"
     ]
    }
   ],
   "source": [
    "t2=Test()"
   ]
  },
  {
   "cell_type": "code",
   "execution_count": 63,
   "id": "60866c06-1690-4111-bd42-8db0cb5d706c",
   "metadata": {},
   "outputs": [
    {
     "name": "stdout",
     "output_type": "stream",
     "text": [
      "protected: 5 private: 8\n"
     ]
    }
   ],
   "source": [
    "t2.show()"
   ]
  },
  {
   "cell_type": "code",
   "execution_count": 65,
   "id": "72290908-8a7e-47ba-9a65-4a781a89efb6",
   "metadata": {},
   "outputs": [
    {
     "data": {
      "text/plain": [
       "8"
      ]
     },
     "execution_count": 65,
     "metadata": {},
     "output_type": "execute_result"
    }
   ],
   "source": [
    "# data mangling\n",
    "t2._Test__c"
   ]
  },
  {
   "cell_type": "code",
   "execution_count": 66,
   "id": "52e1acad-a13e-4739-890e-df653c308cac",
   "metadata": {},
   "outputs": [
    {
     "ename": "AttributeError",
     "evalue": "'Test' object has no attribute '_Test_b'",
     "output_type": "error",
     "traceback": [
      "\u001b[0;31m---------------------------------------------------------------------------\u001b[0m",
      "\u001b[0;31mAttributeError\u001b[0m                            Traceback (most recent call last)",
      "Cell \u001b[0;32mIn [66], line 1\u001b[0m\n\u001b[0;32m----> 1\u001b[0m \u001b[43mt2\u001b[49m\u001b[38;5;241;43m.\u001b[39;49m\u001b[43m_Test_b\u001b[49m\n",
      "\u001b[0;31mAttributeError\u001b[0m: 'Test' object has no attribute '_Test_b'"
     ]
    }
   ],
   "source": [
    "t2._Test_b "
   ]
  },
  {
   "cell_type": "code",
   "execution_count": 67,
   "id": "adc9ce8f-fa77-4443-87d9-6f7be15d89ff",
   "metadata": {},
   "outputs": [
    {
     "data": {
      "text/plain": [
       "5"
      ]
     },
     "execution_count": 67,
     "metadata": {},
     "output_type": "execute_result"
    }
   ],
   "source": [
    "t2._b # for protected don't add the class name"
   ]
  },
  {
   "cell_type": "code",
   "execution_count": 68,
   "id": "7599d858-9d6b-43ac-9e84-c66e070e1acc",
   "metadata": {},
   "outputs": [],
   "source": [
    "# In name mangling\n",
    "  # for protected method don't add the class name Ex= t2._b\n",
    "  # for private we add the class name Ex= t2._Test__c"
   ]
  },
  {
   "cell_type": "code",
   "execution_count": 69,
   "id": "385e845b-49f5-4be2-92d2-27536766d73c",
   "metadata": {},
   "outputs": [],
   "source": [
    "class Tyres:\n",
    "    def __init__(self,branch,belted_bias,opt_pressure):\n",
    "        self.branch=branch\n",
    "        self.belted_bias=belted_bias\n",
    "        self.opt_pressure=opt_pressure\n",
    "        \n",
    "    def __str__(self):\n",
    "        return (\"Tyres: \\n \\t Branch \"+ self.branch +\n",
    "               \"\\n \\t Belted-bias \"+ str(self.belted_bias)+\n",
    "               \"\\n \\t optimum pressure \"+ str(self.opt_pressure))\n",
    "    \n",
    "class Engine:\n",
    "    def __init__(self,fuel_type,noise_level):\n",
    "            self.fuel_type=fuel_type\n",
    "            self.noise_level=noise_level\n",
    "            \n",
    "    def __str__(self):\n",
    "            return (\"Engine: \\n \\t fuel_type \"+self.fuel_type +\n",
    "                    \" \\n \\t noise level \"+ str(self.noise_level))\n",
    "        \n",
    "class Body:\n",
    "    def __init__(self,size):\n",
    "            self.size=size\n",
    "            \n",
    "    def __str__(self):\n",
    "            return (\"Body: \\n \\t size \"+self.size)\n",
    "\n",
    "class Car:\n",
    "    def __init__(self,tyres,engine,body):\n",
    "        self.tyres=tyres\n",
    "        self.engine=engine\n",
    "        self.body=body\n",
    "        \n",
    "    def __str__(self):\n",
    "            return (str(self.tyres)+\"\\n\" + str(self.engine)+\"\\n\"+str(self.body))   \n",
    "        "
   ]
  },
  {
   "cell_type": "code",
   "execution_count": 70,
   "id": "1bbd4b9c-e931-44bb-8373-d3e461c3ad6b",
   "metadata": {},
   "outputs": [],
   "source": [
    "t=Tyres(\"banglore\",True,2.0)\n",
    "e=Engine(\"Diesel\",3)\n",
    "b=Body(\" Medium\")\n"
   ]
  },
  {
   "cell_type": "code",
   "execution_count": 71,
   "id": "a6e9e022-b246-434d-9a0c-8ca2298c0218",
   "metadata": {},
   "outputs": [
    {
     "name": "stdout",
     "output_type": "stream",
     "text": [
      "Tyres: \n",
      " \t Branch banglore\n",
      " \t Belted-bias True\n",
      " \t optimum pressure 2.0\n",
      "Engine: \n",
      " \t fuel_type Diesel \n",
      " \t noise level 3\n",
      "Body: \n",
      " \t size  Medium\n"
     ]
    }
   ],
   "source": [
    "c=Car(t,e,b)\n",
    "print(c)"
   ]
  },
  {
   "cell_type": "code",
   "execution_count": 72,
   "id": "411c57fa-3c06-43ad-b464-4f704c9f7b11",
   "metadata": {},
   "outputs": [
    {
     "name": "stdout",
     "output_type": "stream",
     "text": [
      "Tyres: \n",
      " \t Branch banglore\n",
      " \t Belted-bias True\n",
      " \t optimum pressure 2.0\n"
     ]
    }
   ],
   "source": [
    "print(t)"
   ]
  },
  {
   "cell_type": "code",
   "execution_count": 73,
   "id": "0945dfe5-20ec-46aa-a963-ae798e6d27ee",
   "metadata": {},
   "outputs": [
    {
     "data": {
      "text/plain": [
       "['__call__',\n",
       " '__class__',\n",
       " '__delattr__',\n",
       " '__dir__',\n",
       " '__doc__',\n",
       " '__eq__',\n",
       " '__format__',\n",
       " '__ge__',\n",
       " '__getattribute__',\n",
       " '__gt__',\n",
       " '__hash__',\n",
       " '__init__',\n",
       " '__init_subclass__',\n",
       " '__le__',\n",
       " '__lt__',\n",
       " '__module__',\n",
       " '__name__',\n",
       " '__ne__',\n",
       " '__new__',\n",
       " '__qualname__',\n",
       " '__reduce__',\n",
       " '__reduce_ex__',\n",
       " '__repr__',\n",
       " '__self__',\n",
       " '__setattr__',\n",
       " '__sizeof__',\n",
       " '__str__',\n",
       " '__subclasshook__',\n",
       " '__text_signature__']"
      ]
     },
     "execution_count": 73,
     "metadata": {},
     "output_type": "execute_result"
    }
   ],
   "source": [
    "print(dir(print)"
   ]
  },
  {
   "cell_type": "code",
   "execution_count": null,
   "id": "51b0e23b-caa1-4cfd-91f5-fcb3c129b5e7",
   "metadata": {},
   "outputs": [],
   "source": []
  }
 ],
 "metadata": {
  "kernelspec": {
   "display_name": "Python 3 (ipykernel)",
   "language": "python",
   "name": "python3"
  },
  "language_info": {
   "codemirror_mode": {
    "name": "ipython",
    "version": 3
   },
   "file_extension": ".py",
   "mimetype": "text/x-python",
   "name": "python",
   "nbconvert_exporter": "python",
   "pygments_lexer": "ipython3",
   "version": "3.10.6"
  }
 },
 "nbformat": 4,
 "nbformat_minor": 5
}
